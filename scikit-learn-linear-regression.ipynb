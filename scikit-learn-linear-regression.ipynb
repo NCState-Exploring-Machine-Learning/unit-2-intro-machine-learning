{
 "cells": [
  {
   "cell_type": "markdown",
   "metadata": {},
   "source": [
    "# Scikit Learn\n",
    "\n",
    "Scikit learn is a poplar data science library that gives us access to data sets, algorithms, data visualizing tools, control over computing resources and more. \n",
    "\n",
    "The main function of scikit learn will be the algorithms. This will allows us to leverage other people's code, so we do not have to make everything from scratch. This saves us a ton of time, and give us results faster. It is important to understand how these algorithms work, but from this point forward, it will be more \"exploring\" than deep diving into each algorithm."
   ]
  },
  {
   "cell_type": "code",
   "execution_count": null,
   "metadata": {},
   "outputs": [],
   "source": [
    "import random\n",
    "import numpy as np\n",
    "import matplotlib.pyplot as plt\n",
    "%matplotlib ipympl\n",
    "from sklearn.linear_model import LinearRegression"
   ]
  },
  {
   "cell_type": "markdown",
   "metadata": {},
   "source": []
  },
  {
   "cell_type": "markdown",
   "metadata": {},
   "source": [
    "\n",
    "\n",
    "https://scikit-learn.org/stable/modules/generated/sklearn.linear_model.LinearRegression.html"
   ]
  },
  {
   "cell_type": "code",
   "execution_count": 6,
   "metadata": {},
   "outputs": [
    {
     "name": "stdout",
     "output_type": "stream",
     "text": [
      "Score:  0.9639588072002029\n",
      "Coefficients:  [[3.59656026]]\n",
      "Intercept:  [1.8661261]\n"
     ]
    }
   ],
   "source": [
    "x_data = [0, 1, 1.2, 1.5, 2, 2.3, 2.4, 3.1, 3.4, 3.6, 4, 4.7, 5]\n",
    "y_data = [3.585, 6.321, 5.011, 6.259, 8.118, 8.35, 11.437, 12.869, 13.905, 15.535, 16.65, 19.814, 19.408]\n",
    "np_x_data = np.array(x_data).reshape(-1, 1)\n",
    "np_y_data = np.array(y_data).reshape(-1, 1)\n",
    "\n",
    "# The one line\n",
    "reg = LinearRegression().fit(np_x_data, np_y_data)\n",
    "# Lets look at the data\n",
    "print(\"Score: \", reg.score(np_x_data, np_y_data))\n",
    "print(\"Coefficients: \", reg.coef_)\n",
    "print(\"Intercept: \", reg.intercept_)\n",
    "\n",
    "# Previous Values\n",
    "# m = 3.5965602553870726\n",
    "# b = 1.8661260973663154\n"
   ]
  }
 ],
 "metadata": {
  "kernelspec": {
   "display_name": ".unit-2-env",
   "language": "python",
   "name": "python3"
  },
  "language_info": {
   "codemirror_mode": {
    "name": "ipython",
    "version": 3
   },
   "file_extension": ".py",
   "mimetype": "text/x-python",
   "name": "python",
   "nbconvert_exporter": "python",
   "pygments_lexer": "ipython3",
   "version": "3.10.9"
  }
 },
 "nbformat": 4,
 "nbformat_minor": 2
}
